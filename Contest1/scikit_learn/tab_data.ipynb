{
 "cells": [
  {
   "cell_type": "code",
   "execution_count": 53,
   "metadata": {},
   "outputs": [
    {
     "data": {
      "text/plain": [
       "'C:\\\\Users\\\\Tim\\\\Documents\\\\machine_learning_class\\\\Contest1\\\\scikit_learn'"
      ]
     },
     "execution_count": 53,
     "metadata": {},
     "output_type": "execute_result"
    }
   ],
   "source": [
    "import numpy as np\n",
    "import pandas as pd\n",
    "\n",
    "import os\n",
    "os.getcwd()"
   ]
  },
  {
   "cell_type": "code",
   "execution_count": 99,
   "metadata": {},
   "outputs": [],
   "source": [
    "dataframe = pd.read_csv('../test.csv')\n",
    "dataset = dataframe.values\n",
    "x_val = dataset.astype(float)\n",
    "\n",
    "dataframe = pd.read_csv('../train.csv', delimiter=',')\n",
    "dataset = dataframe.values\n",
    "y = dataset[:,0]\n",
    "x = dataset[:,1:len(dataframe.columns)].astype(float)"
   ]
  },
  {
   "cell_type": "code",
   "execution_count": null,
   "metadata": {},
   "outputs": [],
   "source": []
  },
  {
   "cell_type": "code",
   "execution_count": 119,
   "metadata": {},
   "outputs": [
    {
     "name": "stdout",
     "output_type": "stream",
     "text": [
      "(178,)\n",
      "['cold' 'dusk' 'flowers' 'impressions' 'oval' 'scene' 'trees' 'water']\n"
     ]
    },
    {
     "data": {
      "text/plain": [
       "array([4, 2, 0, 5, 7, 3, 3, 3, 0, 3, 6, 1, 7, 6, 6, 7, 7, 2, 5, 1, 4, 1,\n",
       "       2, 7, 2, 6, 2, 2, 7, 0, 0, 6, 6, 1, 2, 6, 5, 5, 0, 1, 1, 2, 0, 5,\n",
       "       5, 3, 7, 7, 2, 0, 7, 1, 7, 7, 1, 2, 3, 3, 3, 7, 5, 5, 1, 7, 3, 5,\n",
       "       2, 5, 0, 7, 5, 1, 1, 5, 7, 0, 5, 5, 3, 3, 0, 0, 6, 3, 5, 2, 1, 1,\n",
       "       2, 0, 4, 7, 0, 4, 0, 7, 5, 5, 1, 6, 1, 2, 7, 1, 3, 3, 0, 0, 1, 2,\n",
       "       6, 2, 1, 7, 0, 0, 5, 2, 0, 1, 1, 7, 1, 1, 0, 4, 0, 1, 0, 5, 7, 6,\n",
       "       1, 2, 5, 5, 1, 6, 6, 1, 7, 7, 6, 7, 5, 3, 7, 2, 1, 7, 5, 3, 5, 5,\n",
       "       6, 6, 0, 5, 7, 1, 7, 1, 2, 7, 6, 7, 5, 7, 7, 5, 7, 3, 2, 2, 7, 1,\n",
       "       7, 6], dtype=int64)"
      ]
     },
     "execution_count": 119,
     "metadata": {},
     "output_type": "execute_result"
    }
   ],
   "source": [
    "from sklearn.preprocessing import LabelEncoder\n",
    "from sklearn.preprocessing import label_binarize\n",
    "\n",
    "def encode(y):\n",
    "    encoder = LabelEncoder()\n",
    "    encoder.fit(y)\n",
    "    y = encoder.transform(y)\n",
    "    return y, encoder\n",
    "    \n",
    "y, y_encoder = encode(y)\n",
    "print(y.shape)\n",
    "print(y_encoder.classes_)\n",
    "y.view()"
   ]
  },
  {
   "cell_type": "code",
   "execution_count": null,
   "metadata": {},
   "outputs": [],
   "source": []
  },
  {
   "cell_type": "code",
   "execution_count": 111,
   "metadata": {},
   "outputs": [],
   "source": [
    "from sklearn.cross_validation import train_test_split\n",
    "\n",
    "x_train, x_test, y_train, y_test = train_test_split(x, y, test_size=0.33)"
   ]
  },
  {
   "cell_type": "code",
   "execution_count": 105,
   "metadata": {},
   "outputs": [],
   "source": [
    "from sklearn.ensemble import GradientBoostingClassifier  #GBM algorithm\n",
    "from sklearn import cross_validation, metrics   #Additional scklearn functions\n",
    "from sklearn.grid_search import GridSearchCV   #Perforing grid search"
   ]
  },
  {
   "cell_type": "code",
   "execution_count": 106,
   "metadata": {},
   "outputs": [],
   "source": []
  },
  {
   "cell_type": "code",
   "execution_count": 114,
   "metadata": {},
   "outputs": [],
   "source": [
    "gbm0 = GradientBoostingClassifier(random_state=10)\n",
    "#modelfit(gbm0, x, y_fit, y_cv)"
   ]
  },
  {
   "cell_type": "code",
   "execution_count": 115,
   "metadata": {},
   "outputs": [
    {
     "data": {
      "text/plain": [
       "GradientBoostingClassifier(criterion='friedman_mse', init=None,\n",
       "              learning_rate=0.1, loss='deviance', max_depth=3,\n",
       "              max_features=None, max_leaf_nodes=None,\n",
       "              min_impurity_decrease=0.0, min_impurity_split=None,\n",
       "              min_samples_leaf=1, min_samples_split=2,\n",
       "              min_weight_fraction_leaf=0.0, n_estimators=100,\n",
       "              presort='auto', random_state=10, subsample=1.0, verbose=0,\n",
       "              warm_start=False)"
      ]
     },
     "execution_count": 115,
     "metadata": {},
     "output_type": "execute_result"
    }
   ],
   "source": [
    "gbm0.fit(x, y_fit)"
   ]
  },
  {
   "cell_type": "code",
   "execution_count": 121,
   "metadata": {},
   "outputs": [],
   "source": [
    "v_score = cross_validation.cross_val_score(gbm0, x, y_fit, cv=5, scoring='accuracy')"
   ]
  },
  {
   "cell_type": "code",
   "execution_count": 123,
   "metadata": {},
   "outputs": [
    {
     "name": "stdout",
     "output_type": "stream",
     "text": [
      "[0.57894737 0.36842105 0.44444444 0.24242424 0.45454545] 0.41775651249335455\n"
     ]
    }
   ],
   "source": [
    "print(v_score, np.mean(v_score))"
   ]
  },
  {
   "cell_type": "code",
   "execution_count": 136,
   "metadata": {},
   "outputs": [
    {
     "data": {
      "image/png": "[encoded data removed]",
      "text/plain": [
       "<matplotlib.figure.Figure at 0x21a8c7b8e10>"
      ]
     },
     "metadata": {},
     "output_type": "display_data"
    }
   ],
   "source": [
    "import matplotlib.pyplot as plt\n",
    "\n",
    "plt.figure(figsize=(10, 3))\n",
    "feat_imp = pd.Series(gbm0.feature_importances_, dataframe.columns[1:1701]).sort_values(ascending=False)[0:50]\n",
    "feat_imp.plot(kind='bar', title='Feature Importances')\n",
    "plt.ylabel('Feature Importance Score')\n",
    "plt.show()"
   ]
  },
  {
   "cell_type": "code",
   "execution_count": 146,
   "metadata": {
    "scrolled": false
   },
   "outputs": [
    {
     "data": {
      "text/plain": [
       "([mean: 0.41573, std: 0.09141, params: {'max_depth': 5},\n",
       "  mean: 0.41573, std: 0.10581, params: {'max_depth': 7},\n",
       "  mean: 0.42697, std: 0.06194, params: {'max_depth': 9},\n",
       "  mean: 0.42135, std: 0.05826, params: {'max_depth': 11},\n",
       "  mean: 0.42135, std: 0.07617, params: {'max_depth': 13},\n",
       "  mean: 0.46629, std: 0.06344, params: {'max_depth': 15},\n",
       "  mean: 0.41573, std: 0.07692, params: {'max_depth': 20},\n",
       "  mean: 0.39326, std: 0.07285, params: {'max_depth': 25},\n",
       "  mean: 0.39888, std: 0.07146, params: {'max_depth': 30}],\n",
       " {'max_depth': 15},\n",
       " 0.46629213483146065)"
      ]
     },
     "execution_count": 146,
     "metadata": {},
     "output_type": "execute_result"
    }
   ],
   "source": [
    "def gbm_search(para_grid, folds=5, n_repeats=5):\n",
    "    grid_search = GridSearchCV(\n",
    "        estimator=GradientBoostingClassifier(subsample=0.8, random_state=10),\n",
    "        param_grid=param_grid, \n",
    "        scoring='accuracy',\n",
    "        n_jobs=-1, \n",
    "        cv=folds)\n",
    "    return grid_search\n",
    "\n",
    "param_grid = {'max_depth':[5, 7, 9, 11, 13, 15, 20, 25, 30]}\n",
    "gmb_grid = gbm_search(param_grid)\n",
    "\n",
    "gmb_grid.fit(x, y)\n",
    "gmb_grid.grid_scores_, gmb_grid.best_params_, gmb_grid.best_score_"
   ]
  },
  {
   "cell_type": "code",
   "execution_count": 142,
   "metadata": {},
   "outputs": [
    {
     "data": {
      "text/plain": [
       "([mean: 0.42135, std: 0.07617, params: {'max_depth': 13},\n",
       "  mean: 0.44944, std: 0.05782, params: {'max_depth': 14},\n",
       "  mean: 0.46629, std: 0.06344, params: {'max_depth': 15},\n",
       "  mean: 0.42697, std: 0.07544, params: {'max_depth': 16},\n",
       "  mean: 0.41573, std: 0.06658, params: {'max_depth': 17},\n",
       "  mean: 0.43820, std: 0.05414, params: {'max_depth': 18},\n",
       "  mean: 0.38202, std: 0.04308, params: {'max_depth': 19},\n",
       "  mean: 0.41573, std: 0.07692, params: {'max_depth': 20}],\n",
       " {'max_depth': 15},\n",
       " 0.46629213483146065)"
      ]
     },
     "execution_count": 142,
     "metadata": {},
     "output_type": "execute_result"
    }
   ],
   "source": [
    "param_grid = {'max_depth':[13, 14, 15, 16, 17, 18, 19, 20]}\n",
    "gbm_grid = gbm_search(param_grid)\n",
    "\n",
    "gbm_grid.fit(x, y)\n",
    "gbm_grid.grid_scores_, gmb_grid.best_params_, gmb_grid.best_score_"
   ]
  },
  {
   "cell_type": "code",
   "execution_count": 154,
   "metadata": {},
   "outputs": [
    {
     "data": {
      "text/plain": [
       "([mean: 0.46629, std: 0.06344, params: {'max_depth': 15, 'max_features': 'sqrt', 'n_estimators': 60},\n",
       "  mean: 0.42697, std: 0.05153, params: {'max_depth': 15, 'max_features': 'log2', 'n_estimators': 60}],\n",
       " {'max_depth': 15, 'n_estimators': 60},\n",
       " 0.46629213483146065)"
      ]
     },
     "execution_count": 154,
     "metadata": {},
     "output_type": "execute_result"
    }
   ],
   "source": [
    "param_grid = {'max_depth':[15], 'n_estimators':[60], 'max_features':['sqrt']}\n",
    "gbm_grid = gbm_search(param_grid)\n",
    "\n",
    "gbm_grid.fit(x, y)\n",
    "gbm_grid.grid_scores_, gmb_grid.best_params_, gmb_grid.best_score_"
   ]
  },
  {
   "cell_type": "markdown",
   "metadata": {},
   "source": [
    "`gbm` is not senstive to `n_estimators`, `min_samples_split`, `min_samples_leaf`"
   ]
  },
  {
   "cell_type": "code",
   "execution_count": 158,
   "metadata": {},
   "outputs": [
    {
     "data": {
      "text/plain": [
       "([mean: 0.46629, std: 0.06344, params: {'max_depth': 15, 'max_features': 'sqrt', 'n_estimators': 60}],\n",
       " {'max_depth': 15, 'n_estimators': 60},\n",
       " 0.46629213483146065)"
      ]
     },
     "execution_count": 158,
     "metadata": {},
     "output_type": "execute_result"
    }
   ],
   "source": [
    "param_grid = {'max_depth':[15], 'n_estimators':[60], 'max_features':['sqrt']}\n",
    "gbm_grid = gbm_search(param_grid)\n",
    "\n",
    "gbm_grid.fit(x, y)\n",
    "gbm_grid.grid_scores_, gmb_grid.best_params_, gmb_grid.best_score_"
   ]
  },
  {
   "cell_type": "code",
   "execution_count": null,
   "metadata": {
    "collapsed": true
   },
   "outputs": [],
   "source": []
  },
  {
   "cell_type": "code",
   "execution_count": 160,
   "metadata": {},
   "outputs": [
    {
     "data": {
      "text/plain": [
       "GradientBoostingClassifier(criterion='friedman_mse', init=None,\n",
       "              learning_rate=0.1, loss='deviance', max_depth=15,\n",
       "              max_features=None, max_leaf_nodes=None,\n",
       "              min_impurity_decrease=0.0, min_impurity_split=None,\n",
       "              min_samples_leaf=1, min_samples_split=2,\n",
       "              min_weight_fraction_leaf=0.0, n_estimators=60,\n",
       "              presort='auto', random_state=None, subsample=1.0, verbose=0,\n",
       "              warm_start=False)"
      ]
     },
     "execution_count": 160,
     "metadata": {},
     "output_type": "execute_result"
    }
   ],
   "source": [
    "gbm = GradientBoostingClassifier(max_depth=15, n_estimators=60)\n",
    "gbm.fit(x, y)"
   ]
  },
  {
   "cell_type": "code",
   "execution_count": null,
   "metadata": {
    "collapsed": true
   },
   "outputs": [],
   "source": []
  },
  {
   "cell_type": "code",
   "execution_count": 163,
   "metadata": {
    "collapsed": true
   },
   "outputs": [],
   "source": [
    "x_c = x - np.mean(x)"
   ]
  },
  {
   "cell_type": "code",
   "execution_count": 165,
   "metadata": {},
   "outputs": [
    {
     "data": {
      "text/plain": [
       "([mean: 0.38764, std: 0.06605, params: {'max_depth': 2},\n",
       "  mean: 0.43258, std: 0.08250, params: {'max_depth': 3},\n",
       "  mean: 0.42697, std: 0.07947, params: {'max_depth': 4},\n",
       "  mean: 0.45506, std: 0.05371, params: {'max_depth': 5},\n",
       "  mean: 0.41573, std: 0.08900, params: {'max_depth': 7},\n",
       "  mean: 0.41011, std: 0.06040, params: {'max_depth': 9},\n",
       "  mean: 0.42135, std: 0.07856, params: {'max_depth': 11},\n",
       "  mean: 0.41573, std: 0.05711, params: {'max_depth': 13},\n",
       "  mean: 0.42135, std: 0.05507, params: {'max_depth': 15},\n",
       "  mean: 0.43258, std: 0.08951, params: {'max_depth': 20},\n",
       "  mean: 0.41011, std: 0.06516, params: {'max_depth': 25},\n",
       "  mean: 0.40449, std: 0.06216, params: {'max_depth': 30}],\n",
       " {'max_depth': 5},\n",
       " 0.4550561797752809)"
      ]
     },
     "execution_count": 165,
     "metadata": {},
     "output_type": "execute_result"
    }
   ],
   "source": [
    "param_grid = {'max_depth':[2, 3, 4, 5, 7, 9, 11, 13, 15]}\n",
    "gmb_grid = gbm_search(param_grid)\n",
    "\n",
    "gmb_grid.fit(x_c, y)\n",
    "gmb_grid.grid_scores_, gmb_grid.best_params_, gmb_grid.best_score_"
   ]
  },
  {
   "cell_type": "code",
   "execution_count": 169,
   "metadata": {
    "collapsed": true
   },
   "outputs": [],
   "source": [
    "x_s = x_c/np.std(x)"
   ]
  },
  {
   "cell_type": "code",
   "execution_count": 170,
   "metadata": {},
   "outputs": [
    {
     "data": {
      "text/plain": [
       "([mean: 0.40449, std: 0.06176, params: {'max_depth': 2},\n",
       "  mean: 0.43820, std: 0.08562, params: {'max_depth': 3},\n",
       "  mean: 0.43820, std: 0.07753, params: {'max_depth': 4},\n",
       "  mean: 0.43820, std: 0.07299, params: {'max_depth': 5},\n",
       "  mean: 0.39326, std: 0.07890, params: {'max_depth': 7},\n",
       "  mean: 0.43258, std: 0.04993, params: {'max_depth': 9},\n",
       "  mean: 0.41573, std: 0.10444, params: {'max_depth': 11},\n",
       "  mean: 0.39888, std: 0.07487, params: {'max_depth': 13},\n",
       "  mean: 0.42135, std: 0.07455, params: {'max_depth': 15}],\n",
       " {'max_depth': 3},\n",
       " 0.43820224719101125)"
      ]
     },
     "execution_count": 170,
     "metadata": {},
     "output_type": "execute_result"
    }
   ],
   "source": [
    "param_grid = {'max_depth':[2, 3, 4, 5, 7, 9, 11, 13, 15]}\n",
    "gmb_grid = gbm_search(param_grid)\n",
    "\n",
    "gmb_grid.fit(x_s, y)\n",
    "gmb_grid.grid_scores_, gmb_grid.best_params_, gmb_grid.best_score_"
   ]
  },
  {
   "cell_type": "code",
   "execution_count": 171,
   "metadata": {
    "collapsed": true
   },
   "outputs": [],
   "source": [
    "x_val_c = x_val - np.mean(x_val)\n",
    "x_val_s = x_val_c/np.std(x_val)"
   ]
  },
  {
   "cell_type": "code",
   "execution_count": 162,
   "metadata": {},
   "outputs": [
    {
     "name": "stderr",
     "output_type": "stream",
     "text": [
      "C:\\ProgramData\\Anaconda3\\lib\\site-packages\\sklearn\\preprocessing\\label.py:151: DeprecationWarning: The truth value of an empty array is ambiguous. Returning False, but in future this will result in an error. Use `array.size > 0` to check that an array is not empty.\n",
      "  if diff:\n"
     ]
    }
   ],
   "source": [
    "test_outcomes = gbm.predict(x_val_c)\n",
    "id_data = np.r_[1:64]\n",
    "class_data = y_encoder.inverse_transform(test_outcomes)\n",
    "test_df = pd.DataFrame(data={'id': id_data, 'class': class_data}, columns=['id', 'class'])\n",
    "test_df.to_csv('gbm_sub_c.csv', index=False)"
   ]
  },
  {
   "cell_type": "code",
   "execution_count": null,
   "metadata": {
    "collapsed": true
   },
   "outputs": [],
   "source": []
  }
 ],
 "metadata": {
  "kernelspec": {
   "display_name": "Python 3",
   "language": "python",
   "name": "python3"
  },
  "language_info": {
   "codemirror_mode": {
    "name": "ipython",
    "version": 3
   },
   "file_extension": ".py",
   "mimetype": "text/x-python",
   "name": "python",
   "nbconvert_exporter": "python",
   "pygments_lexer": "ipython3",
   "version": "3.6.4"
  }
 },
 "nbformat": 4,
 "nbformat_minor": 2
}
